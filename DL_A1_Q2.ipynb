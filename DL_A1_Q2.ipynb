{
  "nbformat": 4,
  "nbformat_minor": 0,
  "metadata": {
    "colab": {
      "provenance": [],
      "authorship_tag": "ABX9TyMy5NM39YnJxIGD8W5ioMwn",
      "include_colab_link": true
    },
    "kernelspec": {
      "name": "python3",
      "display_name": "Python 3"
    },
    "language_info": {
      "name": "python"
    }
  },
  "cells": [
    {
      "cell_type": "markdown",
      "metadata": {
        "id": "view-in-github",
        "colab_type": "text"
      },
      "source": [
        "<a href=\"https://colab.research.google.com/github/ShahistaAfreen/DL_A1/blob/main/DL_A1_Q2.ipynb\" target=\"_parent\"><img src=\"https://colab.research.google.com/assets/colab-badge.svg\" alt=\"Open In Colab\"/></a>"
      ]
    },
    {
      "cell_type": "code",
      "execution_count": 1,
      "metadata": {
        "id": "KO8gkvciEzDN"
      },
      "outputs": [],
      "source": [
        "from keras.datasets import fashion_mnist\n",
        "import numpy as np\n",
        "import pandas as pd\n",
        "import matplotlib.pyplot as plt"
      ]
    },
    {
      "cell_type": "code",
      "source": [
        "import wandb\n",
        "wandb.login() # Login"
      ],
      "metadata": {
        "colab": {
          "base_uri": "https://localhost:8080/"
        },
        "id": "f3co10ZbsGyQ",
        "outputId": "94db6f76-6532-46dc-d53d-aed889053737"
      },
      "execution_count": 21,
      "outputs": [
        {
          "output_type": "stream",
          "name": "stderr",
          "text": [
            "\u001b[34m\u001b[1mwandb\u001b[0m: \u001b[33mWARNING\u001b[0m Calling wandb.login() after wandb.init() has no effect.\n"
          ]
        },
        {
          "output_type": "execute_result",
          "data": {
            "text/plain": [
              "True"
            ]
          },
          "metadata": {},
          "execution_count": 21
        }
      ]
    },
    {
      "cell_type": "code",
      "source": [
        "# Create a new run in a project\n",
        "run = wandb.init(\n",
        "    project=\"Plotting images from each class\",\n",
        "    notes=\"commit message for the run\",\n",
        "    config={}\n",
        ")"
      ],
      "metadata": {
        "id": "ukbrbc-IsIpU"
      },
      "execution_count": 22,
      "outputs": []
    },
    {
      "cell_type": "code",
      "source": [
        "(x_train, y_train), (x_test, y_test) = fashion_mnist.load_data()"
      ],
      "metadata": {
        "id": "5T4FggALsYQI"
      },
      "execution_count": 23,
      "outputs": []
    },
    {
      "cell_type": "code",
      "source": [
        "np.max(x_train)"
      ],
      "metadata": {
        "colab": {
          "base_uri": "https://localhost:8080/"
        },
        "id": "lZvuSgpw1xDR",
        "outputId": "a9868057-5b2b-4627-c2b4-1e28d37ec7f0"
      },
      "execution_count": 24,
      "outputs": [
        {
          "output_type": "execute_result",
          "data": {
            "text/plain": [
              "255"
            ]
          },
          "metadata": {},
          "execution_count": 24
        }
      ]
    },
    {
      "cell_type": "code",
      "source": [
        "x_train, x_test = x_train/255.0, x_test/255.0"
      ],
      "metadata": {
        "id": "2R3JFBkF1lov"
      },
      "execution_count": 25,
      "outputs": []
    },
    {
      "cell_type": "code",
      "source": [
        "np.max(x_train)"
      ],
      "metadata": {
        "colab": {
          "base_uri": "https://localhost:8080/"
        },
        "id": "qfYoW14t11wL",
        "outputId": "57e80d33-aae0-4b46-d70a-d590ea45ef61"
      },
      "execution_count": 26,
      "outputs": [
        {
          "output_type": "execute_result",
          "data": {
            "text/plain": [
              "1.0"
            ]
          },
          "metadata": {},
          "execution_count": 26
        }
      ]
    },
    {
      "cell_type": "code",
      "source": [
        "x_train.shape"
      ],
      "metadata": {
        "colab": {
          "base_uri": "https://localhost:8080/"
        },
        "id": "awELhu_ssuSG",
        "outputId": "9337a65d-47d8-47c0-cef9-58d9ec8f7423"
      },
      "execution_count": 27,
      "outputs": [
        {
          "output_type": "execute_result",
          "data": {
            "text/plain": [
              "(60000, 28, 28)"
            ]
          },
          "metadata": {},
          "execution_count": 27
        }
      ]
    },
    {
      "cell_type": "code",
      "source": [
        "type(x_train)"
      ],
      "metadata": {
        "colab": {
          "base_uri": "https://localhost:8080/"
        },
        "id": "6F2j7IQdsbMU",
        "outputId": "5c23bdb5-53f3-48e2-82c3-c62e620e6160"
      },
      "execution_count": 28,
      "outputs": [
        {
          "output_type": "execute_result",
          "data": {
            "text/plain": [
              "numpy.ndarray"
            ]
          },
          "metadata": {},
          "execution_count": 28
        }
      ]
    },
    {
      "cell_type": "code",
      "source": [
        "x_train_flattened = x_train.reshape(60000, 28*28)  # Shape: (60000, 784)"
      ],
      "metadata": {
        "id": "TWsv6cE6se4y"
      },
      "execution_count": 29,
      "outputs": []
    },
    {
      "cell_type": "code",
      "source": [
        "x_train_flattened"
      ],
      "metadata": {
        "colab": {
          "base_uri": "https://localhost:8080/"
        },
        "id": "KrjfEe2psmg0",
        "outputId": "da9ab30f-842f-4a23-f4cc-873fc45d7615"
      },
      "execution_count": 30,
      "outputs": [
        {
          "output_type": "execute_result",
          "data": {
            "text/plain": [
              "array([[0., 0., 0., ..., 0., 0., 0.],\n",
              "       [0., 0., 0., ..., 0., 0., 0.],\n",
              "       [0., 0., 0., ..., 0., 0., 0.],\n",
              "       ...,\n",
              "       [0., 0., 0., ..., 0., 0., 0.],\n",
              "       [0., 0., 0., ..., 0., 0., 0.],\n",
              "       [0., 0., 0., ..., 0., 0., 0.]])"
            ]
          },
          "metadata": {},
          "execution_count": 30
        }
      ]
    },
    {
      "cell_type": "code",
      "source": [
        "x_train_flattened.shape"
      ],
      "metadata": {
        "colab": {
          "base_uri": "https://localhost:8080/"
        },
        "id": "6kwFFEbysn7k",
        "outputId": "6faff88b-55a0-4f5b-af7d-5453d37a6824"
      },
      "execution_count": 31,
      "outputs": [
        {
          "output_type": "execute_result",
          "data": {
            "text/plain": [
              "(60000, 784)"
            ]
          },
          "metadata": {},
          "execution_count": 31
        }
      ]
    },
    {
      "cell_type": "code",
      "source": [
        "x_train_with_bias = np.c_[np.ones((60000, 1)), x_train_flattened]"
      ],
      "metadata": {
        "id": "d00taXbfuj5J"
      },
      "execution_count": 36,
      "outputs": []
    },
    {
      "cell_type": "code",
      "source": [
        "x_train_with_bias.shape"
      ],
      "metadata": {
        "colab": {
          "base_uri": "https://localhost:8080/"
        },
        "id": "vrLNCjWmuopE",
        "outputId": "6cbee96e-5e79-4191-d889-6dc8b6e901c1"
      },
      "execution_count": 37,
      "outputs": [
        {
          "output_type": "execute_result",
          "data": {
            "text/plain": [
              "(60000, 785)"
            ]
          },
          "metadata": {},
          "execution_count": 37
        }
      ]
    },
    {
      "cell_type": "markdown",
      "source": [
        "Feed Forward Neural Network"
      ],
      "metadata": {
        "id": "4srnKyj9uAC_"
      }
    },
    {
      "cell_type": "code",
      "source": [
        "def relu(x):\n",
        "  return np.maximum(0,x)\n"
      ],
      "metadata": {
        "id": "ssn5XJpEu9nz"
      },
      "execution_count": 34,
      "outputs": []
    },
    {
      "cell_type": "code",
      "source": [
        "def softmax(x):\n",
        "    exp_x = np.exp(x - np.max(x, axis=0, keepdims=True))  # Numerical stability\n",
        "    return exp_x / np.sum(exp_x, axis=0, keepdims=True)"
      ],
      "metadata": {
        "id": "yVNm094v8R34"
      },
      "execution_count": 35,
      "outputs": []
    },
    {
      "cell_type": "code",
      "source": [
        "def FFNN(x_train, weights, hidden_layers):\n",
        "    activations = [x_train]  # Store activations\n",
        "\n",
        "    # Forward pass through hidden layers\n",
        "    for i in range(hidden_layers):\n",
        "        h_i = np.dot(weights[i], activations[-1])  # Linear transformation\n",
        "        a_i = relu(h_i)  # Apply ReLU activation\n",
        "        activations.append(a_i)  # Store activation\n",
        "\n",
        "    # Output layer (10 neurons for 10 classes)\n",
        "    h_out = np.dot(weights[-1], activations[-1])\n",
        "    a_out = softmax(h_out)  # Apply softmax\n",
        "    activations.append(a_out)\n",
        "\n",
        "    return activations[-1]"
      ],
      "metadata": {
        "id": "Nl9ENyq7sqP9"
      },
      "execution_count": 17,
      "outputs": []
    },
    {
      "cell_type": "code",
      "source": [
        "# Network structure\n",
        "input_size = x_train_with_bias.shape[1]  # 785 = 28x28 +1 images\n",
        "hidden_layers = 2\n",
        "hidden_size = 128  # Neurons per hidden layer\n",
        "output_size = 10  # 10 classes\n",
        "\n",
        "# Initialize weights and biases\n",
        "weights = []\n",
        "w_input = np.random.randn(hidden_size, input_size),  # Input → Hidden 1\n",
        "weights.append(w_input)\n",
        "\n",
        "\n",
        "for i in range(hidden_layers):\n",
        "  w_i = np.random.randn(hidden_size, hidden_size) # hidden(i-1) -> Hidden(i)\n",
        "  weights.append(w_i)\n",
        "\n",
        "w_output = np.random.randn(output_size, hidden_size)  # Hidden last → Output\n",
        "weights.append(w_output)\n",
        "\n",
        "\n",
        "\n",
        "# Run forward pass\n",
        "output = FFNN(x_train_with_bias, weights, hidden_layers)\n",
        "print(\"Output shape:\", output.shape)  # Expected: (10, number of samples)\n"
      ],
      "metadata": {
        "colab": {
          "base_uri": "https://localhost:8080/"
        },
        "id": "9OV6FoFF2pFa",
        "outputId": "89e161f4-baec-40b8-97a4-7c51db801ea1"
      },
      "execution_count": 18,
      "outputs": [
        {
          "output_type": "stream",
          "name": "stdout",
          "text": [
            "Output shape: (10, 60000)\n"
          ]
        }
      ]
    },
    {
      "cell_type": "code",
      "source": [
        "output"
      ],
      "metadata": {
        "colab": {
          "base_uri": "https://localhost:8080/"
        },
        "id": "t0PagPk34awv",
        "outputId": "865ffcfa-bf55-4971-ee3e-8e793c428507"
      },
      "execution_count": 19,
      "outputs": [
        {
          "output_type": "execute_result",
          "data": {
            "text/plain": [
              "array([[0.00000000e+000, 0.00000000e+000, 0.00000000e+000, ...,\n",
              "        0.00000000e+000, 0.00000000e+000, 0.00000000e+000],\n",
              "       [1.00000000e+000, 1.00000000e+000, 1.00000000e+000, ...,\n",
              "        8.90287972e-196, 0.00000000e+000, 1.12533815e-141],\n",
              "       [0.00000000e+000, 0.00000000e+000, 0.00000000e+000, ...,\n",
              "        1.00000000e+000, 1.00000000e+000, 1.00000000e+000],\n",
              "       ...,\n",
              "       [0.00000000e+000, 0.00000000e+000, 0.00000000e+000, ...,\n",
              "        0.00000000e+000, 0.00000000e+000, 0.00000000e+000],\n",
              "       [0.00000000e+000, 0.00000000e+000, 0.00000000e+000, ...,\n",
              "        0.00000000e+000, 0.00000000e+000, 0.00000000e+000],\n",
              "       [0.00000000e+000, 0.00000000e+000, 0.00000000e+000, ...,\n",
              "        0.00000000e+000, 0.00000000e+000, 0.00000000e+000]])"
            ]
          },
          "metadata": {},
          "execution_count": 19
        }
      ]
    },
    {
      "cell_type": "code",
      "source": [
        "np.max(output)"
      ],
      "metadata": {
        "colab": {
          "base_uri": "https://localhost:8080/"
        },
        "id": "kgZ8jxW14biH",
        "outputId": "7daca721-9331-42c4-944b-ea9b552404fc"
      },
      "execution_count": 20,
      "outputs": [
        {
          "output_type": "execute_result",
          "data": {
            "text/plain": [
              "1.0"
            ]
          },
          "metadata": {},
          "execution_count": 20
        }
      ]
    },
    {
      "cell_type": "code",
      "source": [],
      "metadata": {
        "id": "oCkeNEBU4c9U"
      },
      "execution_count": 20,
      "outputs": []
    }
  ]
}
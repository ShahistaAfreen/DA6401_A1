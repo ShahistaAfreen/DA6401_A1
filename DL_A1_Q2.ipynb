{
  "nbformat": 4,
  "nbformat_minor": 0,
  "metadata": {
    "colab": {
      "provenance": [],
      "authorship_tag": "ABX9TyMb2Cmyn6jOngnlqKLRcXb1",
      "include_colab_link": true
    },
    "kernelspec": {
      "name": "python3",
      "display_name": "Python 3"
    },
    "language_info": {
      "name": "python"
    }
  },
  "cells": [
    {
      "cell_type": "markdown",
      "metadata": {
        "id": "view-in-github",
        "colab_type": "text"
      },
      "source": [
        "<a href=\"https://colab.research.google.com/github/ShahistaAfreen/DL_A1/blob/main/DL_A1_Q2.ipynb\" target=\"_parent\"><img src=\"https://colab.research.google.com/assets/colab-badge.svg\" alt=\"Open In Colab\"/></a>"
      ]
    },
    {
      "cell_type": "code",
      "execution_count": 1,
      "metadata": {
        "id": "KO8gkvciEzDN"
      },
      "outputs": [],
      "source": [
        "from keras.datasets import fashion_mnist\n",
        "import numpy as np\n",
        "from sklearn.model_selection import train_test_split\n",
        "import pandas as pd\n",
        "import matplotlib.pyplot as plt"
      ]
    },
    {
      "cell_type": "code",
      "source": [
        "import wandb\n",
        "wandb.login() # Login"
      ],
      "metadata": {
        "colab": {
          "base_uri": "https://localhost:8080/",
          "height": 123
        },
        "id": "f3co10ZbsGyQ",
        "outputId": "539aedaf-3675-487a-8560-3148e8acc204"
      },
      "execution_count": null,
      "outputs": [
        {
          "output_type": "stream",
          "name": "stderr",
          "text": [
            "\u001b[34m\u001b[1mwandb\u001b[0m: Using wandb-core as the SDK backend.  Please refer to https://wandb.me/wandb-core for more information.\n"
          ]
        },
        {
          "output_type": "display_data",
          "data": {
            "text/plain": [
              "<IPython.core.display.Javascript object>"
            ],
            "application/javascript": [
              "\n",
              "        window._wandbApiKey = new Promise((resolve, reject) => {\n",
              "            function loadScript(url) {\n",
              "            return new Promise(function(resolve, reject) {\n",
              "                let newScript = document.createElement(\"script\");\n",
              "                newScript.onerror = reject;\n",
              "                newScript.onload = resolve;\n",
              "                document.body.appendChild(newScript);\n",
              "                newScript.src = url;\n",
              "            });\n",
              "            }\n",
              "            loadScript(\"https://cdn.jsdelivr.net/npm/postmate/build/postmate.min.js\").then(() => {\n",
              "            const iframe = document.createElement('iframe')\n",
              "            iframe.style.cssText = \"width:0;height:0;border:none\"\n",
              "            document.body.appendChild(iframe)\n",
              "            const handshake = new Postmate({\n",
              "                container: iframe,\n",
              "                url: 'https://wandb.ai/authorize'\n",
              "            });\n",
              "            const timeout = setTimeout(() => reject(\"Couldn't auto authenticate\"), 5000)\n",
              "            handshake.then(function(child) {\n",
              "                child.on('authorize', data => {\n",
              "                    clearTimeout(timeout)\n",
              "                    resolve(data)\n",
              "                });\n",
              "            });\n",
              "            })\n",
              "        });\n",
              "    "
            ]
          },
          "metadata": {}
        },
        {
          "output_type": "stream",
          "name": "stderr",
          "text": [
            "\u001b[34m\u001b[1mwandb\u001b[0m: Logging into wandb.ai. (Learn how to deploy a W&B server locally: https://wandb.me/wandb-server)\n",
            "\u001b[34m\u001b[1mwandb\u001b[0m: You can find your API key in your browser here: https://wandb.ai/authorize\n",
            "wandb: Paste an API key from your profile and hit enter:"
          ]
        }
      ]
    },
    {
      "cell_type": "code",
      "source": [
        "# Create a new run in a project\n",
        "run = wandb.init(\n",
        "    project=\"Plotting images from each class\",\n",
        "    notes=\"commit message for the run\",\n",
        "    config={}\n",
        ")"
      ],
      "metadata": {
        "id": "ukbrbc-IsIpU"
      },
      "execution_count": null,
      "outputs": []
    },
    {
      "cell_type": "code",
      "source": [
        "(X_train, y_train), (X_test, y_test) = fashion_mnist.load_data()\n",
        "\n",
        "# Normalize\n",
        "X_train, X_test = X_train / 255.0, X_test / 255.0\n",
        "\n",
        "#Flattening the data\n",
        "X_train = X_train.reshape(X_train.shape[0], -1).T\n",
        "X_test = X_test.reshape(X_test.shape[0], -1).T\n",
        "\n",
        "# Convert labels to one-hot encoding\n",
        "num_classes = 10\n",
        "y_train_one_hot = np.eye(num_classes)[y_train].T\n",
        "y_test_one_hot = np.eye(num_classes)[y_test].T\n",
        "\n",
        "# Split training into 90% train, 10% validation\n",
        "X_train, X_val, y_train_one_hot, y_val_one_hot = train_test_split(X_train.T, y_train_one_hot.T, test_size=0.1, random_state=42)\n",
        "X_train, X_val = X_train.T, X_val.T\n",
        "y_train_one_hot, y_val_one_hot = y_train_one_hot.T, y_val_one_hot.T"
      ],
      "metadata": {
        "id": "2R3JFBkF1lov"
      },
      "execution_count": null,
      "outputs": []
    },
    {
      "cell_type": "code",
      "source": [
        "x_train.shape"
      ],
      "metadata": {
        "id": "gIaHsKyfpDEJ"
      },
      "execution_count": null,
      "outputs": []
    },
    {
      "cell_type": "code",
      "source": [
        "x_train_flattened = x_train.reshape(60000, 28*28)  # Shape: (60000, 784)"
      ],
      "metadata": {
        "id": "TWsv6cE6se4y"
      },
      "execution_count": null,
      "outputs": []
    },
    {
      "cell_type": "code",
      "source": [
        "x_train_flattened"
      ],
      "metadata": {
        "id": "KrjfEe2psmg0"
      },
      "execution_count": null,
      "outputs": []
    },
    {
      "cell_type": "code",
      "source": [
        "x_train_flattened.shape"
      ],
      "metadata": {
        "id": "6kwFFEbysn7k"
      },
      "execution_count": null,
      "outputs": []
    },
    {
      "cell_type": "markdown",
      "source": [
        "Feed Forward Neural Network"
      ],
      "metadata": {
        "id": "4srnKyj9uAC_"
      }
    },
    {
      "cell_type": "code",
      "source": [
        "# Activation Functions\n",
        "def relu(Z):\n",
        "    return np.maximum(0, Z)\n",
        "\n",
        "def d_relu(Z):\n",
        "    return (Z > 0).astype(float)\n",
        "\n",
        "def softmax(Z):\n",
        "    expZ = np.exp(Z - np.max(Z, axis=0, keepdims=True))  # Stability trick\n",
        "    return expZ / np.sum(expZ, axis=0, keepdims=True)\n",
        "\n",
        "def sigmoid(x):\n",
        "    return 1/(1 + np.exp(-x))\n",
        "\n",
        "def d_sigmoid(x):\n",
        "    return (1 - sigmoid(x)) * sigmoid(x)"
      ],
      "metadata": {
        "id": "M1ruhI2ElSTH"
      },
      "execution_count": null,
      "outputs": []
    },
    {
      "cell_type": "code",
      "source": [
        "#Loss functions\n",
        "def cross_entropy_loss(y_true, y_pred):\n",
        "    \"\"\"\n",
        "    Computes categorical cross-entropy loss.\n",
        "\n",
        "    y_true: One-hot encoded true labels (shape: num_classes x num_samples)\n",
        "    y_pred: Softmax output predictions (shape: num_classes x num_samples)\n",
        "\n",
        "    Returns: Average loss across all samples\n",
        "    \"\"\"\n",
        "    m = y_true.shape[1]  # Number of samples\n",
        "    loss = -np.sum(y_true * np.log(y_pred + 1e-9)) / m  # Adding epsilon to prevent log(0)\n",
        "    return loss\n",
        "\n",
        "\n",
        "def d_cross_entropy_loss(y_true, y_pred):\n",
        "    \"\"\"\n",
        "    Computes derivative of cross-entropy loss w.r.t softmax output.\n",
        "\n",
        "    y_true: One-hot encoded true labels (num_classes x num_samples)\n",
        "    y_pred: Softmax output predictions (num_classes x num_samples)\n",
        "\n",
        "    Returns: Gradient (num_classes x num_samples)\n",
        "    \"\"\"\n",
        "    return y_pred - y_true  # Since dL/dZ = softmax - one_hot_labels\n"
      ],
      "metadata": {
        "id": "jitf9hI9nu8O"
      },
      "execution_count": null,
      "outputs": []
    },
    {
      "cell_type": "code",
      "source": [
        "def relu(x):\n",
        "  return np.maximum(0,x)\n"
      ],
      "metadata": {
        "id": "ssn5XJpEu9nz"
      },
      "execution_count": null,
      "outputs": []
    },
    {
      "cell_type": "code",
      "source": [
        "def softmax(x):\n",
        "    exp_x = np.exp(x - np.max(x, axis=0, keepdims=True))  # Numerical stability\n",
        "    return exp_x / np.sum(exp_x, axis=0, keepdims=True)"
      ],
      "metadata": {
        "id": "yVNm094v8R34"
      },
      "execution_count": null,
      "outputs": []
    },
    {
      "cell_type": "code",
      "source": [
        "def FFNN(x_train, weights, hidden_layers):\n",
        "    activations = [x_train]  # Store activations\n",
        "\n",
        "    # Forward pass through hidden layers\n",
        "    for i in range(hidden_layers):\n",
        "        h_i = np.dot(weights[i], activations[-1])  # Linear transformation\n",
        "        a_i = relu(h_i)  # Apply ReLU activation\n",
        "        activations.append(a_i)  # Store activation\n",
        "\n",
        "    # Output layer (10 neurons for 10 classes)\n",
        "    h_out = np.dot(weights[-1], activations[-1])\n",
        "    a_out = softmax(h_out)  # Apply softmax\n",
        "    activations.append(a_out)\n",
        "\n",
        "    return activations[-1]"
      ],
      "metadata": {
        "id": "Nl9ENyq7sqP9"
      },
      "execution_count": null,
      "outputs": []
    },
    {
      "cell_type": "code",
      "source": [
        "\n",
        "\n",
        "\n",
        "\n",
        "# Layer Class\n",
        "class Layer:\n",
        "    activationFunctions = {\n",
        "        'relu': (relu, d_relu),\n",
        "        'softmax': (softmax, None)  # Softmax doesn't have simple element-wise derivative\n",
        "    }\n",
        "\n",
        "    def __init__(self, inputs, neurons, activation):\n",
        "        self.W = np.random.randn(neurons, inputs) * 0.01\n",
        "        self.b = np.zeros((neurons, 1))\n",
        "        self.activation, self.d_activation = self.activationFunctions[activation]\n",
        "\n",
        "    def feedforward(self, A_prev):\n",
        "        self.A_prev = A_prev\n",
        "        self.Z = np.dot(self.W, self.A_prev) + self.b\n",
        "        self.A = self.activation(self.Z)\n",
        "        return self.A\n",
        "\n",
        "    def backprop(self, dA, optimizer, learning_rate, v=None, s=None, t=1):\n",
        "        if self.d_activation:\n",
        "            dZ = dA * self.d_activation(self.Z)\n",
        "        else:\n",
        "            dZ = dA  # Softmax handled separately in output layer\n",
        "\n",
        "        dW = np.dot(dZ, self.A_prev.T) / dZ.shape[1]\n",
        "        db = np.sum(dZ, axis=1, keepdims=True) / dZ.shape[1]\n",
        "        dA_prev = np.dot(self.W.T, dZ)\n",
        "\n",
        "        # Optimization Step\n",
        "        if optimizer == 'sgd':\n",
        "            self.W -= learning_rate * dW\n",
        "            self.b -= learning_rate * db\n",
        "\n",
        "        elif optimizer == 'momentum':\n",
        "            v['dW'] = 0.9 * v['dW'] + learning_rate * dW\n",
        "            v['db'] = 0.9 * v['db'] + learning_rate * db\n",
        "            self.W -= v['dW']\n",
        "            self.b -= v['db']\n",
        "\n",
        "        elif optimizer == 'adam':\n",
        "            beta1, beta2, eps = 0.9, 0.999, 1e-8\n",
        "            v['dW'] = beta1 * v['dW'] + (1 - beta1) * dW\n",
        "            v['db'] = beta1 * v['db'] + (1 - beta1) * db\n",
        "            s['dW'] = beta2 * s['dW'] + (1 - beta2) * (dW**2)\n",
        "            s['db'] = beta2 * s['db'] + (1 - beta2) * (db**2)\n",
        "            v_corrected_dW = v['dW'] / (1 - beta1**t)\n",
        "            v_corrected_db = v['db'] / (1 - beta1**t)\n",
        "            s_corrected_dW = s['dW'] / (1 - beta2**t)\n",
        "            s_corrected_db = s['db'] / (1 - beta2**t)\n",
        "            self.W -= learning_rate * v_corrected_dW / (np.sqrt(s_corrected_dW) + eps)\n",
        "            self.b -= learning_rate * v_corrected_db / (np.sqrt(s_corrected_db) + eps)\n",
        "\n",
        "        return dA_prev\n",
        "\n",
        "# Load Dataset and Split\n",
        "from tensorflow.keras.datasets import fashion_mnist\n",
        "(X_train, y_train), (X_test, y_test) = fashion_mnist.load_data()\n",
        "\n",
        "# Normalize\n",
        "X_train, X_test = X_train / 255.0, X_test / 255.0\n",
        "X_train = X_train.reshape(X_train.shape[0], -1).T\n",
        "X_test = X_test.reshape(X_test.shape[0], -1).T\n",
        "\n",
        "# Convert labels to one-hot encoding\n",
        "num_classes = 10\n",
        "y_train_one_hot = np.eye(num_classes)[y_train].T\n",
        "y_test_one_hot = np.eye(num_classes)[y_test].T\n",
        "\n",
        "# Split training into 90% train, 10% validation\n",
        "X_train, X_val, y_train_one_hot, y_val_one_hot = train_test_split(X_train.T, y_train_one_hot.T, test_size=0.1, random_state=42)\n",
        "X_train, X_val = X_train.T, X_val.T\n",
        "y_train_one_hot, y_val_one_hot = y_train_one_hot.T, y_val_one_hot.T\n"
      ],
      "metadata": {
        "id": "bvYgLmLyleaE"
      },
      "execution_count": null,
      "outputs": []
    },
    {
      "cell_type": "code",
      "source": [
        "# Network structure\n",
        "input_size = x_train_with_bias.shape[1]  # 785 = 28x28 +1 images\n",
        "hidden_layers = 2\n",
        "hidden_size = 128  # Neurons per hidden layer\n",
        "output_size = 10  # 10 classes\n",
        "\n",
        "# Initialize weights and biases\n",
        "weights = []\n",
        "w_input = np.random.randn(hidden_size, input_size),  # Input → Hidden 1\n",
        "weights.append(w_input)\n",
        "\n",
        "\n",
        "for i in range(hidden_layers):\n",
        "  w_i = np.random.randn(hidden_size, hidden_size) # hidden(i-1) -> Hidden(i)\n",
        "  weights.append(w_i)\n",
        "\n",
        "w_output = np.random.randn(output_size, hidden_size)  # Hidden last → Output\n",
        "weights.append(w_output)\n",
        "\n",
        "\n",
        "\n",
        "# Run forward pass\n",
        "output = FFNN(x_train_with_bias, weights, hidden_layers)\n",
        "print(\"Output shape:\", output.shape)  # Expected: (10, number of samples)\n"
      ],
      "metadata": {
        "id": "9OV6FoFF2pFa"
      },
      "execution_count": null,
      "outputs": []
    },
    {
      "cell_type": "code",
      "source": [
        "output"
      ],
      "metadata": {
        "id": "t0PagPk34awv"
      },
      "execution_count": null,
      "outputs": []
    },
    {
      "cell_type": "code",
      "source": [
        "np.max(output)"
      ],
      "metadata": {
        "id": "kgZ8jxW14biH"
      },
      "execution_count": null,
      "outputs": []
    },
    {
      "cell_type": "code",
      "source": [],
      "metadata": {
        "id": "oCkeNEBU4c9U"
      },
      "execution_count": null,
      "outputs": []
    }
  ]
}
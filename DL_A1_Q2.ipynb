{
  "nbformat": 4,
  "nbformat_minor": 0,
  "metadata": {
    "colab": {
      "provenance": [],
      "authorship_tag": "ABX9TyNG0bhWdg0U1LSZsfFFs3/U",
      "include_colab_link": true
    },
    "kernelspec": {
      "name": "python3",
      "display_name": "Python 3"
    },
    "language_info": {
      "name": "python"
    }
  },
  "cells": [
    {
      "cell_type": "markdown",
      "metadata": {
        "id": "view-in-github",
        "colab_type": "text"
      },
      "source": [
        "<a href=\"https://colab.research.google.com/github/ShahistaAfreen/DL_A1/blob/main/DL_A1_Q2.ipynb\" target=\"_parent\"><img src=\"https://colab.research.google.com/assets/colab-badge.svg\" alt=\"Open In Colab\"/></a>"
      ]
    },
    {
      "cell_type": "code",
      "execution_count": 1,
      "metadata": {
        "id": "KO8gkvciEzDN"
      },
      "outputs": [],
      "source": [
        "from keras.datasets import fashion_mnist\n",
        "import numpy as np\n",
        "from sklearn.model_selection import train_test_split\n",
        "import pandas as pd\n",
        "import matplotlib.pyplot as plt"
      ]
    },
    {
      "cell_type": "code",
      "source": [
        "import wandb\n",
        "wandb.login() # Login"
      ],
      "metadata": {
        "colab": {
          "base_uri": "https://localhost:8080/"
        },
        "id": "f3co10ZbsGyQ",
        "outputId": "00d1e39c-5100-4f62-f69e-9eaa5898cef6"
      },
      "execution_count": 6,
      "outputs": [
        {
          "output_type": "stream",
          "name": "stderr",
          "text": [
            "\u001b[34m\u001b[1mwandb\u001b[0m: \u001b[33mWARNING\u001b[0m Calling wandb.login() after wandb.init() has no effect.\n"
          ]
        },
        {
          "output_type": "execute_result",
          "data": {
            "text/plain": [
              "True"
            ]
          },
          "metadata": {},
          "execution_count": 6
        }
      ]
    },
    {
      "cell_type": "code",
      "source": [
        "# Create a new run in a project\n",
        "run = wandb.init(\n",
        "    project=\"Plotting images from each class\",\n",
        "    notes=\"commit message for the run\",\n",
        "    config={}\n",
        ")"
      ],
      "metadata": {
        "id": "ukbrbc-IsIpU",
        "colab": {
          "base_uri": "https://localhost:8080/",
          "height": 104
        },
        "outputId": "4d0887ba-71c4-4cf4-91b1-9583d0fba8df"
      },
      "execution_count": 3,
      "outputs": [
        {
          "output_type": "display_data",
          "data": {
            "text/plain": [
              "<IPython.core.display.HTML object>"
            ],
            "text/html": [
              "Tracking run with wandb version 0.19.7"
            ]
          },
          "metadata": {}
        },
        {
          "output_type": "display_data",
          "data": {
            "text/plain": [
              "<IPython.core.display.HTML object>"
            ],
            "text/html": [
              "Run data is saved locally in <code>/content/wandb/run-20250305_041451-elrkxdrn</code>"
            ]
          },
          "metadata": {}
        },
        {
          "output_type": "display_data",
          "data": {
            "text/plain": [
              "<IPython.core.display.HTML object>"
            ],
            "text/html": [
              "Syncing run <strong><a href='https://wandb.ai/na21b050-iit-madras/Plotting%20images%20from%20each%20class/runs/elrkxdrn' target=\"_blank\">curious-pyramid-6</a></strong> to <a href='https://wandb.ai/na21b050-iit-madras/Plotting%20images%20from%20each%20class' target=\"_blank\">Weights & Biases</a> (<a href='https://wandb.me/developer-guide' target=\"_blank\">docs</a>)<br>"
            ]
          },
          "metadata": {}
        },
        {
          "output_type": "display_data",
          "data": {
            "text/plain": [
              "<IPython.core.display.HTML object>"
            ],
            "text/html": [
              " View project at <a href='https://wandb.ai/na21b050-iit-madras/Plotting%20images%20from%20each%20class' target=\"_blank\">https://wandb.ai/na21b050-iit-madras/Plotting%20images%20from%20each%20class</a>"
            ]
          },
          "metadata": {}
        },
        {
          "output_type": "display_data",
          "data": {
            "text/plain": [
              "<IPython.core.display.HTML object>"
            ],
            "text/html": [
              " View run at <a href='https://wandb.ai/na21b050-iit-madras/Plotting%20images%20from%20each%20class/runs/elrkxdrn' target=\"_blank\">https://wandb.ai/na21b050-iit-madras/Plotting%20images%20from%20each%20class/runs/elrkxdrn</a>"
            ]
          },
          "metadata": {}
        }
      ]
    },
    {
      "cell_type": "code",
      "source": [
        "(X_train, y_train), (X_test, y_test) = fashion_mnist.load_data()\n",
        "\n",
        "# Normalize\n",
        "X_train, X_test = X_train / 255.0, X_test / 255.0\n",
        "\n",
        "#Flattening the data\n",
        "X_train = X_train.reshape(X_train.shape[0], -1).T\n",
        "X_test = X_test.reshape(X_test.shape[0], -1).T\n",
        "\n",
        "# Convert labels to one-hot encoding\n",
        "num_classes = 10\n",
        "y_train_one_hot = np.eye(num_classes)[y_train].T\n",
        "y_test_one_hot = np.eye(num_classes)[y_test].T\n",
        "\n",
        "# Split training into 90% train, 10% validation\n",
        "X_train, X_val, y_train_one_hot, y_val_one_hot = train_test_split(X_train.T, y_train_one_hot.T, test_size=0.1, random_state=42)\n",
        "X_train, X_val = X_train.T, X_val.T\n",
        "y_train_one_hot, y_val_one_hot = y_train_one_hot.T, y_val_one_hot.T"
      ],
      "metadata": {
        "id": "2R3JFBkF1lov"
      },
      "execution_count": 7,
      "outputs": []
    },
    {
      "cell_type": "code",
      "source": [
        "X_train.shape, y_train_one_hot.shape"
      ],
      "metadata": {
        "id": "gIaHsKyfpDEJ",
        "colab": {
          "base_uri": "https://localhost:8080/"
        },
        "outputId": "d0a0baca-9960-4afa-c0e6-2f88cd1804c8"
      },
      "execution_count": 9,
      "outputs": [
        {
          "output_type": "execute_result",
          "data": {
            "text/plain": [
              "((784, 54000), (10, 54000))"
            ]
          },
          "metadata": {},
          "execution_count": 9
        }
      ]
    },
    {
      "cell_type": "markdown",
      "source": [
        "Feed Forward Neural Network"
      ],
      "metadata": {
        "id": "4srnKyj9uAC_"
      }
    },
    {
      "cell_type": "code",
      "source": [
        "# Activation Functions\n",
        "def relu(Z):\n",
        "    return np.maximum(0, Z)\n",
        "\n",
        "def d_relu(Z):\n",
        "    return (Z > 0).astype(float)\n",
        "\n",
        "def softmax(Z):\n",
        "    expZ = np.exp(Z - np.max(Z, axis=0, keepdims=True))  # Stability trick\n",
        "    return expZ / np.sum(expZ, axis=0, keepdims=True)\n",
        "\n",
        "def sigmoid(x):\n",
        "    return 1/(1 + np.exp(-x))\n",
        "\n",
        "def d_sigmoid(x):\n",
        "    return (1 - sigmoid(x)) * sigmoid(x)"
      ],
      "metadata": {
        "id": "M1ruhI2ElSTH"
      },
      "execution_count": null,
      "outputs": []
    },
    {
      "cell_type": "code",
      "source": [
        "#Loss functions\n",
        "def cross_entropy_loss(y_true, y_pred):\n",
        "    \"\"\"\n",
        "    Computes categorical cross-entropy loss.\n",
        "\n",
        "    y_true: One-hot encoded true labels (shape: num_classes x num_samples)\n",
        "    y_pred: Softmax output predictions (shape: num_classes x num_samples)\n",
        "\n",
        "    Returns: Average loss across all samples\n",
        "    \"\"\"\n",
        "    m = y_true.shape[1]  # Number of samples\n",
        "    loss = -np.sum(y_true * np.log(y_pred + 1e-9)) / m  # Adding epsilon to prevent log(0)\n",
        "    return loss\n",
        "\n",
        "\n",
        "def d_cross_entropy_loss(y_true, y_pred):\n",
        "    \"\"\"\n",
        "    Computes derivative of cross-entropy loss w.r.t softmax output.\n",
        "\n",
        "    y_true: One-hot encoded true labels (num_classes x num_samples)\n",
        "    y_pred: Softmax output predictions (num_classes x num_samples)\n",
        "\n",
        "    Returns: Gradient (num_classes x num_samples)\n",
        "    \"\"\"\n",
        "    return y_pred - y_true  # Since dL/dZ = softmax - one_hot_labels\n"
      ],
      "metadata": {
        "id": "jitf9hI9nu8O"
      },
      "execution_count": null,
      "outputs": []
    },
    {
      "cell_type": "code",
      "source": [
        "def FFNN(x_train, weights, hidden_layers):\n",
        "    activations = [x_train]  # Store activations\n",
        "\n",
        "    # Forward pass through hidden layers\n",
        "    for i in range(hidden_layers):\n",
        "        h_i = np.dot(weights[i], activations[-1])  # Linear transformation\n",
        "        a_i = relu(h_i)  # Apply ReLU activation\n",
        "        activations.append(a_i)  # Store activation\n",
        "\n",
        "    # Output layer (10 neurons for 10 classes)\n",
        "    h_out = np.dot(weights[-1], activations[-1])\n",
        "    a_out = softmax(h_out)  # Apply softmax\n",
        "    activations.append(a_out)\n",
        "\n",
        "    return activations[-1]"
      ],
      "metadata": {
        "id": "Nl9ENyq7sqP9"
      },
      "execution_count": null,
      "outputs": []
    },
    {
      "cell_type": "code",
      "source": [
        "# Layer Class\n",
        "class Layer:\n",
        "    activationFunctions = {\n",
        "        'relu': (relu, d_relu),\n",
        "        'softmax': (softmax, None)  # Softmax doesn't have simple element-wise derivative\n",
        "    }\n",
        "\n",
        "    def __init__(self, inputs, neurons, activation):\n",
        "        self.W = np.random.randn(neurons, inputs) * 0.01\n",
        "        self.b = np.zeros((neurons, 1))\n",
        "        self.activation, self.d_activation = self.activationFunctions[activation]\n",
        "\n",
        "    def feedforward(self, A_prev):\n",
        "        self.A_prev = A_prev\n",
        "        self.Z = np.dot(self.W, self.A_prev) + self.b\n",
        "        self.A = self.activation(self.Z)\n",
        "        return self.A\n",
        "\n",
        "    def backprop(self, dA, optimizer, learning_rate = 0.1, v=None, s=None, t=1):\n",
        "        if self.d_activation:\n",
        "            dZ = dA * self.d_activation(self.Z)\n",
        "        else:\n",
        "            dZ = dA  # Softmax handled separately in output layer\n",
        "\n",
        "        dW = np.dot(dZ, self.A_prev.T) / dZ.shape[1]\n",
        "        db = np.sum(dZ, axis=1, keepdims=True) / dZ.shape[1]\n",
        "        dA_prev = np.dot(self.W.T, dZ)\n",
        "\n",
        "        # Optimization Step\n",
        "        if optimizer == 'sgd':\n",
        "            self.W -= learning_rate * dW\n",
        "            self.b -= learning_rate * db\n",
        "\n",
        "        elif optimizer == 'momentum':\n",
        "            v['dW'] = 0.9 * v['dW'] + learning_rate * dW\n",
        "            v['db'] = 0.9 * v['db'] + learning_rate * db\n",
        "            self.W -= v['dW']\n",
        "            self.b -= v['db']\n",
        "\n",
        "        elif optimizer == 'adam':\n",
        "            beta1, beta2, eps = 0.9, 0.999, 1e-8\n",
        "            v['dW'] = beta1 * v['dW'] + (1 - beta1) * dW\n",
        "            v['db'] = beta1 * v['db'] + (1 - beta1) * db\n",
        "            s['dW'] = beta2 * s['dW'] + (1 - beta2) * (dW**2)\n",
        "            s['db'] = beta2 * s['db'] + (1 - beta2) * (db**2)\n",
        "            v_corrected_dW = v['dW'] / (1 - beta1**t)\n",
        "            v_corrected_db = v['db'] / (1 - beta1**t)\n",
        "            s_corrected_dW = s['dW'] / (1 - beta2**t)\n",
        "            s_corrected_db = s['db'] / (1 - beta2**t)\n",
        "            self.W -= learning_rate * v_corrected_dW / (np.sqrt(s_corrected_dW) + eps)\n",
        "            self.b -= learning_rate * v_corrected_db / (np.sqrt(s_corrected_db) + eps)\n",
        "\n",
        "        return dA_prev"
      ],
      "metadata": {
        "id": "bvYgLmLyleaE"
      },
      "execution_count": null,
      "outputs": []
    },
    {
      "cell_type": "code",
      "source": [
        "\n",
        "\n",
        "# Run forward pass\n",
        "output = FFNN(x_train_with_bias, weights, hidden_layers)\n",
        "print(\"Output shape:\", output.shape)  # Expected: (10, number of samples)\n"
      ],
      "metadata": {
        "id": "9OV6FoFF2pFa"
      },
      "execution_count": null,
      "outputs": []
    },
    {
      "cell_type": "code",
      "source": [],
      "metadata": {
        "id": "oCkeNEBU4c9U"
      },
      "execution_count": null,
      "outputs": []
    }
  ]
}